{
  "nbformat": 4,
  "nbformat_minor": 0,
  "metadata": {
    "colab": {
      "provenance": []
    },
    "kernelspec": {
      "name": "python3",
      "display_name": "Python 3"
    },
    "language_info": {
      "name": "python"
    }
  },
  "cells": [
    {
      "cell_type": "code",
      "source": [
        "!pip install gymnasium stable-baselines3 numpy"
      ],
      "metadata": {
        "id": "2yDpZZ6bbKk2"
      },
      "execution_count": null,
      "outputs": []
    },
    {
      "cell_type": "code",
      "source": [
        "import gymnasium as gym\n",
        "from gymnasium import spaces\n",
        "import numpy as np\n",
        "\n",
        "class TicTacToeEnv(gym.Env):\n",
        "    def __init__(self):\n",
        "        super(TicTacToeEnv, self).__init__()\n",
        "        # Define the action space: 9 discrete actions corresponding to each cell in the 3x3 grid\n",
        "        self.action_space = spaces.Discrete(9)\n",
        "\n",
        "        # Observation space: 3x3 grid, where each cell can have one of three values (0: empty, 1: player 1, 2: player 2)\n",
        "        self.observation_space = spaces.Box(low=0, high=2, shape=(3, 3), dtype=np.int32)\n",
        "\n",
        "        # Initialize the board state\n",
        "        self.state = np.zeros((3, 3), dtype=np.int32)\n",
        "\n",
        "        # Set the current player (1 for player 1, 2 for player 2)\n",
        "        self.current_player = 1\n",
        "\n",
        "    def reset(self, seed=None, options=None):\n",
        "        # Reset the board to an empty state and set the starting player\n",
        "        self.state = np.zeros((3, 3), dtype=np.int32)\n",
        "        self.current_player = 1\n",
        "        return self.state, {}\n",
        "\n",
        "    def step(self, action):\n",
        "        # Convert action (0-8) to 2D grid position\n",
        "        row, col = divmod(action, 3)\n",
        "\n",
        "        # Check if the action is valid (the cell is empty)\n",
        "        if self.state[row, col] != 0:\n",
        "            return self.state, -10, True, False, {\"invalid\": True}  # Invalid move, end episode with penalty\n",
        "\n",
        "        # Place the current player's mark on the board\n",
        "        self.state[row, col] = self.current_player\n",
        "\n",
        "        # Check if the game is won or if it's a draw\n",
        "        if self._check_win(self.current_player):\n",
        "            return self.state, 1, True, False, {}  # Winning move\n",
        "\n",
        "        if self._check_draw():\n",
        "            return self.state, 0, True, False, {}  # Draw\n",
        "\n",
        "        # Switch players\n",
        "        self.current_player = 2 if self.current_player == 1 else 1\n",
        "        return self.state, 0, False, False, {}  # Continue the game\n",
        "\n",
        "    def render(self, mode=\"human\"):\n",
        "        # Print the board to the console\n",
        "        symbols = {0: \" \", 1: \"X\", 2: \"O\"}\n",
        "        print(\"\\n\".join([\"|\".join([symbols[cell] for cell in row]) for row in self.state]))\n",
        "        print()\n",
        "\n",
        "    def close(self):\n",
        "        pass\n",
        "\n",
        "    def _check_win(self, player):\n",
        "        # Check rows, columns, and diagonals for a win\n",
        "        for i in range(3):\n",
        "            if np.all(self.state[i, :] == player) or np.all(self.state[:, i] == player):\n",
        "                return True\n",
        "        if np.all(np.diag(self.state) == player) or np.all(np.diag(np.fliplr(self.state)) == player):\n",
        "            return True\n",
        "        return False\n",
        "\n",
        "    def _check_draw(self):\n",
        "        # Check if all cells are filled and there's no winner\n",
        "        return np.all(self.state != 0)\n"
      ],
      "metadata": {
        "id": "K9Y-K8TOd4BC"
      },
      "execution_count": null,
      "outputs": []
    },
    {
      "cell_type": "code",
      "source": [
        "import gymnasium as gym\n",
        "from stable_baselines3 import PPO\n",
        "from stable_baselines3.common.env_checker import check_env\n",
        "\n",
        "# Create the environment\n",
        "env = TicTacToeEnv()\n",
        "\n",
        "# Check if the environment follows the Gymnasium API\n",
        "check_env(env, warn=True)\n",
        "\n",
        "# Create and train the PPO model\n",
        "model = PPO(\"MlpPolicy\", env, verbose=1)\n",
        "model.learn(total_timesteps=1000000)\n",
        "\n",
        "# Test the trained agent\n",
        "obs, _ = env.reset()\n",
        "for _ in range(9):  # Maximum 9 moves in a Tic Tac Toe game\n",
        "    action, _states = model.predict(obs)\n",
        "    obs, reward, done, _, _ = env.step(action)\n",
        "    env.render()\n",
        "    if done:\n",
        "        if reward == 1:\n",
        "            print(\"The agent won!\")\n",
        "        elif reward == 0:\n",
        "            print(\"It's a draw!\")\n",
        "        else:\n",
        "            print(\"The agent made an invalid move.\")\n",
        "        break"
      ],
      "metadata": {
        "id": "5dFpvwk8edq9"
      },
      "execution_count": null,
      "outputs": []
    }
  ]
}