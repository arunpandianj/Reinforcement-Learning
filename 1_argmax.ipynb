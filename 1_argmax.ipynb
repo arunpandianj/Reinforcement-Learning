{
  "nbformat": 4,
  "nbformat_minor": 0,
  "metadata": {
    "colab": {
      "provenance": []
    },
    "kernelspec": {
      "name": "python3",
      "display_name": "Python 3"
    },
    "language_info": {
      "name": "python"
    }
  },
  "cells": [
    {
      "cell_type": "markdown",
      "source": [
        "## Code to Use argmax Function in NumPy"
      ],
      "metadata": {
        "id": "1CS55uce9irR"
      }
    },
    {
      "cell_type": "markdown",
      "source": [
        "A simple Python code that uses the argmax function from the NumPy library to find the index of the maximum value in a NumPy array"
      ],
      "metadata": {
        "id": "oS2JtbuW9rw7"
      }
    },
    {
      "cell_type": "code",
      "execution_count": 1,
      "metadata": {
        "colab": {
          "base_uri": "https://localhost:8080/"
        },
        "id": "GBUtbS3q9fTL",
        "outputId": "bea8b523-43b1-458f-d77d-52e211d23690"
      },
      "outputs": [
        {
          "output_type": "stream",
          "name": "stdout",
          "text": [
            "The index of the maximum value in the array is: 4\n",
            "The maximum value in the array is: 10\n"
          ]
        }
      ],
      "source": [
        "import numpy as np\n",
        "\n",
        "# Create a sample NumPy array\n",
        "array = np.array([3, 8, 2, 5, 10, 6])\n",
        "\n",
        "# Use the argmax function to find the index of the maximum value\n",
        "index_of_max = np.argmax(array)\n",
        "\n",
        "print(f\"The index of the maximum value in the array is: {index_of_max}\")\n",
        "print(f\"The maximum value in the array is: {array[index_of_max]}\")"
      ]
    },
    {
      "cell_type": "markdown",
      "source": [
        "**How can I modify the code to return a random index of the maximum value in a NumPy array when there are multiple maximum values?**"
      ],
      "metadata": {
        "id": "ty1JWcLj98H6"
      }
    },
    {
      "cell_type": "code",
      "source": [
        "#code here"
      ],
      "metadata": {
        "id": "nS-r4INC-Syq"
      },
      "execution_count": null,
      "outputs": []
    }
  ]
}